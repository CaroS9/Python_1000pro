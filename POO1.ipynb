{
  "nbformat": 4,
  "nbformat_minor": 0,
  "metadata": {
    "colab": {
      "provenance": [],
      "collapsed_sections": [],
      "authorship_tag": "ABX9TyNrIIpaXl7amgutxWygTGNE",
      "include_colab_link": true
    },
    "kernelspec": {
      "name": "python3",
      "display_name": "Python 3"
    },
    "language_info": {
      "name": "python"
    }
  },
  "cells": [
    {
      "cell_type": "markdown",
      "metadata": {
        "id": "view-in-github",
        "colab_type": "text"
      },
      "source": [
        "<a href=\"https://colab.research.google.com/github/CaroS9/Python_1000pro/blob/main/POO1.ipynb\" target=\"_parent\"><img src=\"https://colab.research.google.com/assets/colab-badge.svg\" alt=\"Open In Colab\"/></a>"
      ]
    },
    {
      "cell_type": "code",
      "execution_count": 1,
      "metadata": {
        "id": "jouIANcDOhwy"
      },
      "outputs": [],
      "source": [
        "class Alumno:\n",
        "  apodo=\"aprendiz\"\n",
        "  def __init__(self, dni, comision, apellidos, nombres, año_ing, carrera):\n",
        "    self.dni= dni\n",
        "    self.comision= comision\n",
        "    self.apellidos= apellidos\n",
        "    self.nombres= nombres\n",
        "    self.año_ing= año_ing\n",
        "    self.carrera= carrera\n",
        "    \n",
        "  def __str__(self):\n",
        "    return f\"DNI: {self.dni}\\nComisión: {self.comision}\\nApellidos: {self.apellidos}\\nNombres: {self.nombres}\\nAño de ingreso : {self.año_ing}\\nCarrera: {self.carrera}\\n\"\n"
      ]
    },
    {
      "cell_type": "code",
      "source": [
        "alumno1= Alumno(123,\"CM1\",\"AAAA BB\", \"CCCCC\", 98,\"Ingenieria\")\n",
        "alumno2= Alumno(234,\"CM2\",\"BBBB CC\", \"DDDDD\", 99,\"Profesorado\")\n",
        "alumno3 = Alumno(456,\"CM3\", \"KKKK mm\",\"VVVVV\", 87,\"Medicina\")\n",
        "alumno4 = Alumno(789,\"CM7\", \"VVVV GG\", \"EEEEE\", 99, \"Abogacía\")\n",
        "alumno5=Alumno(567,\"CM6\",\"SSSSS\",\"UUUU\",89,\"Medicina\")\n",
        "\n",
        "print(alumno1)\n",
        "print(alumno2)\n",
        "print(alumno3)\n",
        "print(alumno4)\n",
        "print(alumno5)"
      ],
      "metadata": {
        "colab": {
          "base_uri": "https://localhost:8080/"
        },
        "id": "AlkjgleWYALI",
        "outputId": "f70e40e8-5a38-4d29-9e8d-10439848e889"
      },
      "execution_count": 3,
      "outputs": [
        {
          "output_type": "stream",
          "name": "stdout",
          "text": [
            "DNI: 123\n",
            "Comisión: CM1\n",
            "Apellidos: AAAA BB\n",
            "Nombres: CCCCC\n",
            "Año de ingreso : 98\n",
            "Carrera: Ingenieria\n",
            "\n",
            "DNI: 234\n",
            "Comisión: CM2\n",
            "Apellidos: BBBB CC\n",
            "Nombres: DDDDD\n",
            "Año de ingreso : 99\n",
            "Carrera: Profesorado\n",
            "\n",
            "DNI: 456\n",
            "Comisión: CM3\n",
            "Apellidos: KKKK mm\n",
            "Nombres: VVVVV\n",
            "Año de ingreso : 87\n",
            "Carrera: Medicina\n",
            "\n",
            "DNI: 789\n",
            "Comisión: CM7\n",
            "Apellidos: VVVV GG\n",
            "Nombres: EEEEE\n",
            "Año de ingreso : 99\n",
            "Carrera: Abogacía\n",
            "\n",
            "DNI: 567\n",
            "Comisión: CM6\n",
            "Apellidos: SSSSS\n",
            "Nombres: UUUU\n",
            "Año de ingreso : 89\n",
            "Carrera: Medicina\n",
            "\n"
          ]
        }
      ]
    }
  ]
}