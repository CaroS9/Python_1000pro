{
  "nbformat": 4,
  "nbformat_minor": 0,
  "metadata": {
    "colab": {
      "provenance": [],
      "collapsed_sections": [],
      "authorship_tag": "ABX9TyPflC/BYiaL37ifyhRg0s72",
      "include_colab_link": true
    },
    "kernelspec": {
      "name": "python3",
      "display_name": "Python 3"
    },
    "language_info": {
      "name": "python"
    }
  },
  "cells": [
    {
      "cell_type": "markdown",
      "metadata": {
        "id": "view-in-github",
        "colab_type": "text"
      },
      "source": [
        "<a href=\"https://colab.research.google.com/github/CaroS9/Python_1000pro/blob/main/making_scripts.ipynb\" target=\"_parent\"><img src=\"https://colab.research.google.com/assets/colab-badge.svg\" alt=\"Open In Colab\"/></a>"
      ]
    },
    {
      "cell_type": "markdown",
      "source": [
        "# Para Títulos\n",
        "## Para Subtítulos\n",
        "![imagen de prueba](https://www.google.com/search?q=google&tbm=isch&hl=es-419&chips=q:google,g_1:logo:fQ1jJs8JKWs%3D,g_1:vector:9-iZEg8p0Fs%3D&bih=635&biw=1349&sa=X&ved=2ahUKEwiw-96h8tP6AhVFjJUCHcVDBqQQ4lYoAHoECAEQKA)"
      ],
      "metadata": {
        "id": "eYqOfflAOFAb"
      }
    },
    {
      "cell_type": "markdown",
      "source": [],
      "metadata": {
        "id": "3jQk7VxFQpng"
      }
    },
    {
      "cell_type": "markdown",
      "source": [
        "![ imagen de prueba](https://i.pinimg.com/236x/12/09/22/120922acdb2ec74ca2e3f118e32d9c00.jpg)\n",
        "\n",
        "![ otra](https://1000marcas.net/wp-content/uploads/2020/02/logo-Google-500x281.png())\n",
        "\n",
        "si necesita información entrar [aquí](https://1000marcas.net/google-logo/)\n"
      ],
      "metadata": {
        "id": "jsAKgEgbR8s7"
      }
    },
    {
      "cell_type": "code",
      "source": [
        "!pwd\n"
      ],
      "metadata": {
        "colab": {
          "base_uri": "https://localhost:8080/"
        },
        "id": "sj5F6IR0f-U1",
        "outputId": "6c20ce01-99cd-4b10-faf0-d482d4ef8e2f"
      },
      "execution_count": 1,
      "outputs": [
        {
          "output_type": "stream",
          "name": "stdout",
          "text": [
            "/content\n"
          ]
        }
      ]
    },
    {
      "cell_type": "code",
      "source": [
        "!ls"
      ],
      "metadata": {
        "colab": {
          "base_uri": "https://localhost:8080/"
        },
        "id": "Q_Myw6A9gjWn",
        "outputId": "37481f8e-cb67-45af-8371-14bb4fbe02c1"
      },
      "execution_count": 2,
      "outputs": [
        {
          "output_type": "stream",
          "name": "stdout",
          "text": [
            "'Escher manos.jpg'   sample_data\n"
          ]
        }
      ]
    },
    {
      "cell_type": "code",
      "source": [
        "from funciones import simplificar\n",
        "simplificar(200,300)"
      ],
      "metadata": {
        "colab": {
          "base_uri": "https://localhost:8080/"
        },
        "id": "Cv1hQ6MFkDmf",
        "outputId": "a91cab9d-3b3f-4958-9bd4-867cb629e2cb"
      },
      "execution_count": 10,
      "outputs": [
        {
          "output_type": "stream",
          "name": "stdout",
          "text": [
            "a=  2.0 b=  3.0\n"
          ]
        }
      ]
    }
  ]
}